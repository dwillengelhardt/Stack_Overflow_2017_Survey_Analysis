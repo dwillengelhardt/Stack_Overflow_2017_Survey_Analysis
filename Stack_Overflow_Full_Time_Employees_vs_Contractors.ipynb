{
 "cells": [
  {
   "cell_type": "markdown",
   "metadata": {},
   "source": [
    "# Differences Between Full-Time Employees and Independent Contractors"
   ]
  },
  {
   "cell_type": "markdown",
   "metadata": {},
   "source": [
    "## Business Understanding\n",
    "This notebook uses Stack Overflow's 2017 Survey data to investigate if certain results are different if the respondent is a full-time employee at a company versus an independent contractor.  The main areas of interest are:\n",
    "<ul>\n",
    "    <li>Highest level of formal education</li>\n",
    "    <li>Career satisfaction score</li>\n",
    "    <li>Job security importance</li>\n",
    "</ul>\n",
    "Each of these questions gives some insight into why a person's career takes the shape it does.  For professionals who are early in their career, answers to these questions could serve as a form of career guidance.\n",
    "    "
   ]
  },
  {
   "cell_type": "markdown",
   "metadata": {},
   "source": [
    "## Data Understanding"
   ]
  },
  {
   "cell_type": "markdown",
   "metadata": {},
   "source": [
    "In order to understand the data, it must first be collected and imported."
   ]
  },
  {
   "cell_type": "code",
   "execution_count": 86,
   "metadata": {
    "scrolled": true
   },
   "outputs": [],
   "source": [
    "# Load modules\n",
    "import pandas as pd\n",
    "import numpy as np\n",
    "import matplotlib.pyplot as plt\n",
    "\n",
    "%matplotlib inline"
   ]
  },
  {
   "cell_type": "code",
   "execution_count": 87,
   "metadata": {},
   "outputs": [],
   "source": [
    "# Read in the data set\n",
    "df_raw = pd.read_csv('survey-results-public.csv')\n",
    "\n",
    "# Remove columns that are not of interest\n",
    "df_raw = df_raw[['Professional', 'EmploymentStatus', 'FormalEducation', 'CareerSatisfaction', 'JobSecurity']]"
   ]
  },
  {
   "cell_type": "markdown",
   "metadata": {},
   "source": [
    "Now that the data has been read in, some basic examination is in order.  First, a look at the first rows."
   ]
  },
  {
   "cell_type": "code",
   "execution_count": 88,
   "metadata": {},
   "outputs": [
    {
     "data": {
      "text/html": [
       "<div>\n",
       "<style scoped>\n",
       "    .dataframe tbody tr th:only-of-type {\n",
       "        vertical-align: middle;\n",
       "    }\n",
       "\n",
       "    .dataframe tbody tr th {\n",
       "        vertical-align: top;\n",
       "    }\n",
       "\n",
       "    .dataframe thead th {\n",
       "        text-align: right;\n",
       "    }\n",
       "</style>\n",
       "<table border=\"1\" class=\"dataframe\">\n",
       "  <thead>\n",
       "    <tr style=\"text-align: right;\">\n",
       "      <th></th>\n",
       "      <th>Professional</th>\n",
       "      <th>EmploymentStatus</th>\n",
       "      <th>FormalEducation</th>\n",
       "      <th>CareerSatisfaction</th>\n",
       "      <th>JobSecurity</th>\n",
       "    </tr>\n",
       "  </thead>\n",
       "  <tbody>\n",
       "    <tr>\n",
       "      <th>0</th>\n",
       "      <td>Student</td>\n",
       "      <td>Not employed, and not looking for work</td>\n",
       "      <td>Secondary school</td>\n",
       "      <td>NaN</td>\n",
       "      <td>Strongly agree</td>\n",
       "    </tr>\n",
       "    <tr>\n",
       "      <th>1</th>\n",
       "      <td>Student</td>\n",
       "      <td>Employed part-time</td>\n",
       "      <td>Some college/university study without earning ...</td>\n",
       "      <td>NaN</td>\n",
       "      <td>NaN</td>\n",
       "    </tr>\n",
       "    <tr>\n",
       "      <th>2</th>\n",
       "      <td>Professional developer</td>\n",
       "      <td>Employed full-time</td>\n",
       "      <td>Bachelor's degree</td>\n",
       "      <td>8.0</td>\n",
       "      <td>Agree</td>\n",
       "    </tr>\n",
       "    <tr>\n",
       "      <th>3</th>\n",
       "      <td>Professional non-developer who sometimes write...</td>\n",
       "      <td>Employed full-time</td>\n",
       "      <td>Doctoral degree</td>\n",
       "      <td>6.0</td>\n",
       "      <td>Somewhat agree</td>\n",
       "    </tr>\n",
       "    <tr>\n",
       "      <th>4</th>\n",
       "      <td>Professional developer</td>\n",
       "      <td>Employed full-time</td>\n",
       "      <td>Master's degree</td>\n",
       "      <td>6.0</td>\n",
       "      <td>NaN</td>\n",
       "    </tr>\n",
       "  </tbody>\n",
       "</table>\n",
       "</div>"
      ],
      "text/plain": [
       "                                        Professional  \\\n",
       "0                                            Student   \n",
       "1                                            Student   \n",
       "2                             Professional developer   \n",
       "3  Professional non-developer who sometimes write...   \n",
       "4                             Professional developer   \n",
       "\n",
       "                         EmploymentStatus  \\\n",
       "0  Not employed, and not looking for work   \n",
       "1                      Employed part-time   \n",
       "2                      Employed full-time   \n",
       "3                      Employed full-time   \n",
       "4                      Employed full-time   \n",
       "\n",
       "                                     FormalEducation  CareerSatisfaction  \\\n",
       "0                                   Secondary school                 NaN   \n",
       "1  Some college/university study without earning ...                 NaN   \n",
       "2                                  Bachelor's degree                 8.0   \n",
       "3                                    Doctoral degree                 6.0   \n",
       "4                                    Master's degree                 6.0   \n",
       "\n",
       "      JobSecurity  \n",
       "0  Strongly agree  \n",
       "1             NaN  \n",
       "2           Agree  \n",
       "3  Somewhat agree  \n",
       "4             NaN  "
      ]
     },
     "execution_count": 88,
     "metadata": {},
     "output_type": "execute_result"
    }
   ],
   "source": [
    "# Print first rows of dataframe\n",
    "df_raw.head()"
   ]
  },
  {
   "cell_type": "markdown",
   "metadata": {},
   "source": [
    "It appears there will be some null values in the data features.  The extent of null values is determined next."
   ]
  },
  {
   "cell_type": "code",
   "execution_count": 89,
   "metadata": {},
   "outputs": [
    {
     "name": "stdout",
     "output_type": "stream",
     "text": [
      "<class 'pandas.core.frame.DataFrame'>\n",
      "RangeIndex: 51392 entries, 0 to 51391\n",
      "Data columns (total 5 columns):\n",
      "Professional          51392 non-null object\n",
      "EmploymentStatus      51392 non-null object\n",
      "FormalEducation       51392 non-null object\n",
      "CareerSatisfaction    42695 non-null float64\n",
      "JobSecurity           31240 non-null object\n",
      "dtypes: float64(1), object(4)\n",
      "memory usage: 2.0+ MB\n"
     ]
    }
   ],
   "source": [
    "# Print dataframe info\n",
    "df_raw.info()"
   ]
  },
  {
   "cell_type": "markdown",
   "metadata": {},
   "source": [
    "Both the <i>CareerSatisfaction</i> and <i>JobSecurity</i> columns have a non-trivial amount of null values.  This will need to be resolved.  Next, the value counts for the <i>Professional</i> column will be investigated."
   ]
  },
  {
   "cell_type": "code",
   "execution_count": 90,
   "metadata": {
    "scrolled": true
   },
   "outputs": [
    {
     "data": {
      "text/plain": [
       "Professional developer                                  36131\n",
       "Student                                                  8224\n",
       "Professional non-developer who sometimes writes code     5140\n",
       "Used to be a professional developer                       983\n",
       "None of these                                             914\n",
       "Name: Professional, dtype: int64"
      ]
     },
     "execution_count": 90,
     "metadata": {},
     "output_type": "execute_result"
    }
   ],
   "source": [
    "# Print value counts in Professional column\n",
    "df_raw.Professional.value_counts()"
   ]
  },
  {
   "cell_type": "markdown",
   "metadata": {},
   "source": [
    "The vast number of respondents are professional developers or professionals who code.  However, there are some entries for students.  Responses from students are not of interest because their careers have not been established.  Now, the <i>EmploymentStatus</i> column value counts are reviewed."
   ]
  },
  {
   "cell_type": "code",
   "execution_count": 91,
   "metadata": {},
   "outputs": [
    {
     "data": {
      "text/plain": [
       "Employed full-time                                      36148\n",
       "Independent contractor, freelancer, or self-employed     5233\n",
       "Employed part-time                                       3180\n",
       "Not employed, and not looking for work                   2791\n",
       "Not employed, but looking for work                       2786\n",
       "I prefer not to say                                      1086\n",
       "Retired                                                   168\n",
       "Name: EmploymentStatus, dtype: int64"
      ]
     },
     "execution_count": 91,
     "metadata": {},
     "output_type": "execute_result"
    }
   ],
   "source": [
    "# Print value counts in EmploymentStatus column\n",
    "df_raw.EmploymentStatus.value_counts()"
   ]
  },
  {
   "cell_type": "markdown",
   "metadata": {},
   "source": [
    "There are a number of different entries, but the two of interest are \"Employeed full-time\" and \"Independent contractor, freelancer, or self-employed\".  Now, the <i>FormalEducation</i> column value counts will be reviewed."
   ]
  },
  {
   "cell_type": "code",
   "execution_count": 92,
   "metadata": {},
   "outputs": [
    {
     "data": {
      "text/plain": [
       "Bachelor's degree                                                    21609\n",
       "Master's degree                                                      11141\n",
       "Some college/university study without earning a bachelor's degree     8129\n",
       "Secondary school                                                      5908\n",
       "Doctoral degree                                                       1308\n",
       "I prefer not to answer                                                1109\n",
       "Primary/elementary school                                             1047\n",
       "Professional degree                                                    715\n",
       "I never completed any formal education                                 426\n",
       "Name: FormalEducation, dtype: int64"
      ]
     },
     "execution_count": 92,
     "metadata": {},
     "output_type": "execute_result"
    }
   ],
   "source": [
    "# Print value counts in FormalEducation column\n",
    "df_raw.FormalEducation.value_counts()"
   ]
  },
  {
   "cell_type": "markdown",
   "metadata": {},
   "source": [
    "The majority of the respondents had a Bachelor's degree or Master's degree, or at least some college education (if not a completed degree).  The next column, <i>CareerSatisfaction</i> is numerical, so the descriptive statistics can be reviewed."
   ]
  },
  {
   "cell_type": "code",
   "execution_count": 93,
   "metadata": {},
   "outputs": [
    {
     "data": {
      "text/plain": [
       "count    42695.000000\n",
       "mean         7.300574\n",
       "std          1.955444\n",
       "min          0.000000\n",
       "25%          6.000000\n",
       "50%          8.000000\n",
       "75%          9.000000\n",
       "max         10.000000\n",
       "Name: CareerSatisfaction, dtype: float64"
      ]
     },
     "execution_count": 93,
     "metadata": {},
     "output_type": "execute_result"
    }
   ],
   "source": [
    "# Print descriptive statistics for the CareerSatisfaction column\n",
    "df_raw.CareerSatisfaction.describe()"
   ]
  },
  {
   "cell_type": "markdown",
   "metadata": {},
   "source": [
    "The mean career satisfaction score is 7.3, with a standard deviation of 1.96.  The inter-quartile range for the scores is 6 to 9, favoring the high end of the scale.  The last column requiring basic analysis is the <i>JobSecurity</i> column.  The value counts for this column are shared below."
   ]
  },
  {
   "cell_type": "code",
   "execution_count": 94,
   "metadata": {},
   "outputs": [
    {
     "data": {
      "text/plain": [
       "Agree                13035\n",
       "Somewhat agree        7862\n",
       "Strongly agree        7347\n",
       "Disagree              2408\n",
       "Strongly disagree      588\n",
       "Name: JobSecurity, dtype: int64"
      ]
     },
     "execution_count": 94,
     "metadata": {},
     "output_type": "execute_result"
    }
   ],
   "source": [
    "# Print value counts in JobSecurity column\n",
    "df_raw.JobSecurity.value_counts()"
   ]
  },
  {
   "cell_type": "markdown",
   "metadata": {},
   "source": [
    "From these results, the overwhelming majority of non-null entries appear to consider job security important."
   ]
  },
  {
   "cell_type": "markdown",
   "metadata": {},
   "source": [
    "## Data Preparation\n",
    "Based on the findings from the previous section, the data preparation will consist of the following tasks:\n",
    "<ul>\n",
    "    <li>Remove entries of \"Student\" from the <i>Professional</i> column - these respondents probably don't have a qualified opinion for the investigation</li>\n",
    "    <li>Remove all entries except \"Employed part-time\" and \"Independent contractor, freelancer, or self-employed\" from the <i>EmploymentStatus</i> column - the other statuses are not of interest</li>\n",
    "    <li>Remove entries with null values</li>\n",
    "    <li>Subset the cleaned dataframe based on profession - one for full-time employees and one for independent contractors</li>\n",
    "    <li>Remove unnecessary columns from the subsetted dataframes</li>\n",
    "</ul>\n",
    "However, before starting, a dataframe specifically for cleaning the data is created."
   ]
  },
  {
   "cell_type": "code",
   "execution_count": 95,
   "metadata": {},
   "outputs": [],
   "source": [
    "# Create a copy of the data\n",
    "df_cleaning = df_raw.copy()"
   ]
  },
  {
   "cell_type": "markdown",
   "metadata": {},
   "source": [
    "#### Cleaning Task 1\n",
    "The first cleaning task is to remove the respondents that are students."
   ]
  },
  {
   "cell_type": "code",
   "execution_count": 96,
   "metadata": {},
   "outputs": [],
   "source": [
    "# Remove entries where the responder is a student\n",
    "df_cleaning = df_cleaning.query('Professional != \"Student\"')"
   ]
  },
  {
   "cell_type": "markdown",
   "metadata": {},
   "source": [
    "The unique values can be reviewed to confirm the cleaning task was completed successfully."
   ]
  },
  {
   "cell_type": "code",
   "execution_count": 97,
   "metadata": {},
   "outputs": [
    {
     "name": "stdout",
     "output_type": "stream",
     "text": [
      "Professional developer\n",
      "Professional non-developer who sometimes writes code\n",
      "Used to be a professional developer\n",
      "None of these\n"
     ]
    }
   ],
   "source": [
    "# Confirm there aren't any student respondents in the data set anymore\n",
    "[print(item) for item in df_cleaning.Professional.unique()];"
   ]
  },
  {
   "cell_type": "markdown",
   "metadata": {},
   "source": [
    "As can be seen, all student respondents have been removed from the data set.\n",
    "#### Cleaning Task 2\n",
    "The second cleaning task is to limit the dataset to respondents that are full-time employees or independent contractors.  This is done below."
   ]
  },
  {
   "cell_type": "code",
   "execution_count": 98,
   "metadata": {
    "scrolled": true
   },
   "outputs": [],
   "source": [
    "# Remove entries where the employment status is not Full-Time or Independent\n",
    "df_cleaning = df_cleaning.query('EmploymentStatus == \"Employed full-time\" or EmploymentStatus == \"Independent contractor, freelancer, or self-employed\"')"
   ]
  },
  {
   "cell_type": "markdown",
   "metadata": {},
   "source": [
    "Again, the unique values can be reviewed to confirm the cleaning task was completed successfully."
   ]
  },
  {
   "cell_type": "code",
   "execution_count": 99,
   "metadata": {},
   "outputs": [
    {
     "name": "stdout",
     "output_type": "stream",
     "text": [
      "Employed full-time\n",
      "Independent contractor, freelancer, or self-employed\n"
     ]
    }
   ],
   "source": [
    "# Confirm the dataset is only composed of full-time employees and independent contractors\n",
    "[print(item) for item in df_cleaning.EmploymentStatus.unique()];"
   ]
  },
  {
   "cell_type": "markdown",
   "metadata": {},
   "source": [
    "Based on the output, the dataset is now composed only of full-time employees and independent contractors.\n",
    "#### Cleaning Task 3\n",
    "In this task, the null values need to be removed.  Based on the first two cleaning tasks, the number of null values should be re-assessed."
   ]
  },
  {
   "cell_type": "code",
   "execution_count": 100,
   "metadata": {},
   "outputs": [
    {
     "name": "stdout",
     "output_type": "stream",
     "text": [
      "<class 'pandas.core.frame.DataFrame'>\n",
      "Int64Index: 39370 entries, 2 to 51391\n",
      "Data columns (total 5 columns):\n",
      "Professional          39370 non-null object\n",
      "EmploymentStatus      39370 non-null object\n",
      "FormalEducation       39370 non-null object\n",
      "CareerSatisfaction    39015 non-null float64\n",
      "JobSecurity           24649 non-null object\n",
      "dtypes: float64(1), object(4)\n",
      "memory usage: 1.8+ MB\n"
     ]
    }
   ],
   "source": [
    "# Display dataframe info\n",
    "df_cleaning.info()"
   ]
  },
  {
   "cell_type": "markdown",
   "metadata": {},
   "source": [
    "After cleaning from the other two steps was completed, there are slightly over 39,000 entries remaining.  The <i>CareerSatisfaction</i> column has a much smaller proportion of null entries compared to the raw dataset.  Those can be removed without further investigation, as the loss of data will be negligible.  Rather than removing the entries where the <i>JobSecurity</i> column is null, these null entries will be filled with a value of \"No response\"."
   ]
  },
  {
   "cell_type": "code",
   "execution_count": 101,
   "metadata": {
    "scrolled": true
   },
   "outputs": [],
   "source": [
    "# Remove null entries from CareerSatisfaction column\n",
    "df_cleaning.dropna(subset = ['CareerSatisfaction'], inplace = True)"
   ]
  },
  {
   "cell_type": "markdown",
   "metadata": {},
   "source": [
    "A null value reassessment will show that the rows with null entries in the <i>CareerSatisfaction</i> column have been removed"
   ]
  },
  {
   "cell_type": "code",
   "execution_count": 102,
   "metadata": {},
   "outputs": [
    {
     "name": "stdout",
     "output_type": "stream",
     "text": [
      "<class 'pandas.core.frame.DataFrame'>\n",
      "Int64Index: 39015 entries, 2 to 51391\n",
      "Data columns (total 5 columns):\n",
      "Professional          39015 non-null object\n",
      "EmploymentStatus      39015 non-null object\n",
      "FormalEducation       39015 non-null object\n",
      "CareerSatisfaction    39015 non-null float64\n",
      "JobSecurity           24537 non-null object\n",
      "dtypes: float64(1), object(4)\n",
      "memory usage: 1.8+ MB\n"
     ]
    }
   ],
   "source": [
    "# Confirm that there are no null values in the CareerSatisfaction column\n",
    "df_cleaning.info()"
   ]
  },
  {
   "cell_type": "markdown",
   "metadata": {},
   "source": [
    "It is apparent that the only column now with null values is JobSecurity, which will now be addressed.  From the inspection of this column in the Data Understanding section, there is no existing category that the null values could be assigned.  Therefore, all null entries will be filled with a value of \"No response\", which is the most likely cause for these null values."
   ]
  },
  {
   "cell_type": "code",
   "execution_count": 103,
   "metadata": {},
   "outputs": [],
   "source": [
    "# Fill null entries from JobSecurity column with value of \"No response\"\n",
    "df_cleaning.JobSecurity.fillna(\"No response\", inplace = True)"
   ]
  },
  {
   "cell_type": "markdown",
   "metadata": {},
   "source": [
    "Checking the column's unique values and reassissing the null value count will confirm the cleaning task was finished successfully."
   ]
  },
  {
   "cell_type": "code",
   "execution_count": 104,
   "metadata": {},
   "outputs": [
    {
     "name": "stdout",
     "output_type": "stream",
     "text": [
      "Agree\n",
      "Somewhat agree\n",
      "No response\n",
      "Strongly agree\n",
      "Strongly disagree\n",
      "Disagree\n"
     ]
    }
   ],
   "source": [
    "# Confirm that \"No response\" has been added as a value in the JobSecurity column\n",
    "[print(item) for item in df_cleaning.JobSecurity.unique()];"
   ]
  },
  {
   "cell_type": "code",
   "execution_count": 105,
   "metadata": {},
   "outputs": [
    {
     "name": "stdout",
     "output_type": "stream",
     "text": [
      "<class 'pandas.core.frame.DataFrame'>\n",
      "Int64Index: 39015 entries, 2 to 51391\n",
      "Data columns (total 5 columns):\n",
      "Professional          39015 non-null object\n",
      "EmploymentStatus      39015 non-null object\n",
      "FormalEducation       39015 non-null object\n",
      "CareerSatisfaction    39015 non-null float64\n",
      "JobSecurity           39015 non-null object\n",
      "dtypes: float64(1), object(4)\n",
      "memory usage: 1.8+ MB\n"
     ]
    }
   ],
   "source": [
    "# Confirm all null entries have been removed\n",
    "df_cleaning.info()"
   ]
  },
  {
   "cell_type": "markdown",
   "metadata": {},
   "source": [
    "As can be seen, the null values in the <i>JobSecurity</i> column have been replaced with a value of \"No response.\"\n",
    "#### Cleaning Task 4\n",
    "In this cleaning task, the cleaning dataframe will be subsetted into a dataframe containing entries of only full-time employees and another dataframe containing entries only for independent contractors."
   ]
  },
  {
   "cell_type": "code",
   "execution_count": 106,
   "metadata": {},
   "outputs": [],
   "source": [
    "# Create dataframe for entries of full-time employees\n",
    "df_ft = df_cleaning.query('EmploymentStatus == \"Employed full-time\"')\n",
    "\n",
    "# Create dataframe for entries of independent contractors\n",
    "df_ind = df_cleaning.query('EmploymentStatus == \"Independent contractor, freelancer, or self-employed\"')"
   ]
  },
  {
   "cell_type": "markdown",
   "metadata": {},
   "source": [
    "To show this was done correctly, the unique values in the EmploymentStatus of each dataframe will be queried."
   ]
  },
  {
   "cell_type": "code",
   "execution_count": 107,
   "metadata": {},
   "outputs": [
    {
     "name": "stdout",
     "output_type": "stream",
     "text": [
      "Employed full-time\n"
     ]
    }
   ],
   "source": [
    "# Print unique values in the full-time employee EmploymentStatus column\n",
    "[print(item) for item in df_ft.EmploymentStatus.unique()];"
   ]
  },
  {
   "cell_type": "code",
   "execution_count": 108,
   "metadata": {},
   "outputs": [
    {
     "name": "stdout",
     "output_type": "stream",
     "text": [
      "Independent contractor, freelancer, or self-employed\n"
     ]
    }
   ],
   "source": [
    "# Print unique values in the independent contractor EmploymentStatus column\n",
    "[print(item) for item in df_ind.EmploymentStatus.unique()];"
   ]
  },
  {
   "cell_type": "markdown",
   "metadata": {},
   "source": [
    "Both dataframes have subsetted the data as intended.\n",
    "\n",
    "#### Cleaning Task 5\n",
    "The final task is to remove the columns from the subsetted dataframes that were only used for the purpose of segmenting the data.  These columns are <i>Professional</i> and <i>EmploymentStatus</i>.  First, it will be confirmed that these columns are in the subsetted dataframes."
   ]
  },
  {
   "cell_type": "code",
   "execution_count": 109,
   "metadata": {},
   "outputs": [
    {
     "name": "stdout",
     "output_type": "stream",
     "text": [
      "Professional\n",
      "EmploymentStatus\n",
      "FormalEducation\n",
      "CareerSatisfaction\n",
      "JobSecurity\n"
     ]
    }
   ],
   "source": [
    "# Print columns in the full-time employee dataframe\n",
    "[print(item) for item in df_ft.columns];"
   ]
  },
  {
   "cell_type": "code",
   "execution_count": 110,
   "metadata": {},
   "outputs": [
    {
     "name": "stdout",
     "output_type": "stream",
     "text": [
      "Professional\n",
      "EmploymentStatus\n",
      "FormalEducation\n",
      "CareerSatisfaction\n",
      "JobSecurity\n"
     ]
    }
   ],
   "source": [
    "# Print columns in the independent contractor dataframe\n",
    "[print(item) for item in df_ind.columns];"
   ]
  },
  {
   "cell_type": "markdown",
   "metadata": {},
   "source": [
    "Having confirmed that the columns are present, the will now be removed."
   ]
  },
  {
   "cell_type": "code",
   "execution_count": 111,
   "metadata": {},
   "outputs": [],
   "source": [
    "# Drop Professional and EmploymentStatus columns from subsetted dataframes\n",
    "df_ft.drop(columns = ['Professional', 'EmploymentStatus'], inplace = True)\n",
    "df_ind.drop(columns = ['Professional', 'EmploymentStatus'], inplace = True)"
   ]
  },
  {
   "cell_type": "markdown",
   "metadata": {},
   "source": [
    "Printing the list of columns in each dataframe will show that the cleaning task was performed successfully."
   ]
  },
  {
   "cell_type": "code",
   "execution_count": 112,
   "metadata": {},
   "outputs": [
    {
     "name": "stdout",
     "output_type": "stream",
     "text": [
      "FormalEducation\n",
      "CareerSatisfaction\n",
      "JobSecurity\n"
     ]
    }
   ],
   "source": [
    "# Re-print columns in the full-time employee dataframe\n",
    "[print(item) for item in df_ft.columns];"
   ]
  },
  {
   "cell_type": "code",
   "execution_count": 113,
   "metadata": {},
   "outputs": [
    {
     "name": "stdout",
     "output_type": "stream",
     "text": [
      "FormalEducation\n",
      "CareerSatisfaction\n",
      "JobSecurity\n"
     ]
    }
   ],
   "source": [
    "# Re-print columns in the independent contractor dataframe\n",
    "[print(item) for item in df_ind.columns];"
   ]
  },
  {
   "cell_type": "markdown",
   "metadata": {},
   "source": [
    "With this, the last coding task was completed successfully, and the project can now move to the next stage.  However, before proceeding, backup copies of each of these subsetted dataframes will be created."
   ]
  },
  {
   "cell_type": "code",
   "execution_count": 114,
   "metadata": {},
   "outputs": [],
   "source": [
    "# Create backup copies of subsetted dataframes\n",
    "df_ft_copy = df_ft.copy()\n",
    "df_ind_copy = df_ind.copy()"
   ]
  },
  {
   "cell_type": "markdown",
   "metadata": {},
   "source": [
    "## Modeling\n",
    "While no modeling is being performed in this investigation per se, it is time for the actual analysis phase of the project.  Each of the the analyses will apply the use of comparative bar charts.  To reduce redundant code, a function is created below that can be applied to this dataset to create the bar charts.  Additionally, a helper function is created to extract the data for the bar charts."
   ]
  },
  {
   "cell_type": "code",
   "execution_count": 115,
   "metadata": {},
   "outputs": [],
   "source": [
    "# Create function for extracting bar chart data\n",
    "def bar_chart_data(df, column, labels = []):\n",
    "    '''\n",
    "    INPUT\n",
    "      df - name of dataframe with data of interest\n",
    "      column - the column of interest in the specified dataframe\n",
    "      labels - list of labels for a bar chart x-axis (should be provided if column data is ordinal)\n",
    "    \n",
    "    OUTPUT\n",
    "       x_labels - list of labels for a bar chart's x-axis tick marks\n",
    "       x_ticks - numpy array of tick marks for a bar chart x-axis\n",
    "       values - list of value counts for each label on the x axis of a bar chart\n",
    "    '''\n",
    "    # Extract the data into a series of value counts\n",
    "    data = df[column].value_counts()\n",
    "    \n",
    "    # Case 1: list of x-axis labels is provided\n",
    "    if len(labels) != 0:\n",
    "        x_labels = labels.copy()\n",
    "        values = []\n",
    "        for item in range(len(labels)):\n",
    "            values.append(data[labels[item]])\n",
    "    else:\n",
    "        x_labels = list(data.index)\n",
    "        values = list(data)\n",
    "    \n",
    "    # Abbreviate labels to produce cleaner plots\n",
    "    for item in range(len(x_labels)):\n",
    "        try:\n",
    "            if len(x_labels[item]) > 20:\n",
    "                x_labels[item] = x_labels[item][0:20] + '...'\n",
    "        except:\n",
    "            pass\n",
    "    \n",
    "    # Create tick marks\n",
    "    x_ticks = np.arange(len(x_labels))\n",
    "    \n",
    "    return x_labels, x_ticks, values"
   ]
  },
  {
   "cell_type": "code",
   "execution_count": 116,
   "metadata": {},
   "outputs": [],
   "source": [
    "# Create function for comparative bar charts\n",
    "def bar_chart_compare(column, title, labels = []):\n",
    "    '''\n",
    "    INPUT\n",
    "      column - the column in each of the dataframes (df_ft and df_ind) to be compared\n",
    "      title - the title prefix that will be applied to each of the subplots\n",
    "      labels - an ordered list of the labels for the x axis of the plots\n",
    "    \n",
    "    OUTPUT\n",
    "      A bar chart showing the counts for the identified column in both of the dataframes\n",
    "      (df_ft and df_ind), each with titles and axis labels.\n",
    "      '''\n",
    "    # Get bar chart data\n",
    "    ft_x_labels, ft_x_ticks, ft_values = bar_chart_data(df_ft, column, labels)\n",
    "    ind_x_labels, ind_x_ticks, ind_values = bar_chart_data(df_ind, column, labels)\n",
    "    \n",
    "    # Set figure size\n",
    "    plt.figure(figsize = [12, 4])\n",
    "    \n",
    "    # Determine x-axis label orientation\n",
    "    # Case for non-numerical data types\n",
    "    try: \n",
    "        ft_label_lengths = [len(item) for item in ft_x_labels]\n",
    "        ind_label_lengths = [len(item) for item in ind_x_labels]\n",
    "    # Case for numerical data types\n",
    "    except:\n",
    "        ft_label_lengths = [0]\n",
    "        ind_label_lengths = [0]\n",
    "    if max(ft_label_lengths) > 5 or max(ind_label_lengths) > 5:\n",
    "        rotation = 'vertical'\n",
    "    else:\n",
    "        rotation = 'horizontal'\n",
    "    \n",
    "    # Create bar chart for full-time employee data\n",
    "    plt.subplot(1,2,1)\n",
    "    plt.bar(ft_x_ticks, ft_values);\n",
    "    plt.xticks(ft_x_ticks, ft_x_labels, rotation = rotation)\n",
    "    plt.ylabel('Counts')\n",
    "    plt.title(title + ' - Full-Time Employees')\n",
    "    \n",
    "    # Create bar chart for independent contractor data\n",
    "    plt.subplot(1,2,2)\n",
    "    plt.bar(ind_x_ticks, ind_values);\n",
    "    plt.xticks(ind_x_ticks, ind_x_labels, rotation = rotation)\n",
    "    plt.ylabel('Counts')\n",
    "    plt.title(title + ' - Independent Contractors')"
   ]
  },
  {
   "cell_type": "markdown",
   "metadata": {},
   "source": [
    "### Question 1: Differences in Formal Education\n",
    "Are full-time employees more highly educated than independent contractors?  Comparative bar charts and a basic analysis of proportions should be a sufficient indicator."
   ]
  },
  {
   "cell_type": "code",
   "execution_count": 117,
   "metadata": {},
   "outputs": [
    {
     "data": {
      "image/png": "[encoded data removed]",
      "text/plain": [
       "<Figure size 864x288 with 2 Axes>"
      ]
     },
     "metadata": {
      "needs_background": "light"
     },
     "output_type": "display_data"
    }
   ],
   "source": [
    "# Produce comparative bar charts for FormalEducation column\n",
    "bar_chart_compare('FormalEducation', 'Formal Education')"
   ]
  },
  {
   "cell_type": "markdown",
   "metadata": {},
   "source": [
    "For the sake of simplicity, the numerical analysis will focus on the percentage who achieved postgraduate degrees versus those that did not even finish college.  For a profession such as software development, achieving a bachelor's degree is a reasonable benchmark of expected level of education."
   ]
  },
  {
   "cell_type": "code",
   "execution_count": 119,
   "metadata": {
    "scrolled": true
   },
   "outputs": [
    {
     "name": "stdout",
     "output_type": "stream",
     "text": [
      "Proportion of full-time employees with postgraduate education:  0.2910322468592601\n",
      "Proportion of independent contractors with postgraduate education:  0.26023718952785857\n",
      "\n",
      "Proportion of full-time employees that never finished college:  0.2027731141087246\n",
      "Proportion of independent contractors that never finished college:  0.3369881405236071\n"
     ]
    }
   ],
   "source": [
    "# Create value count data for FormalEducation column from both dataframes\n",
    "ft_formal_education = df_ft.FormalEducation.value_counts()\n",
    "ind_formal_education = df_ind.FormalEducation.value_counts()\n",
    "\n",
    "# Find proportion of full-time employees with post-graduate degrees\n",
    "ft_post_grad = (ft_formal_education[\"Master's degree\"] + ft_formal_education[\"Doctoral degree\"])/len(df_ft)\n",
    "\n",
    "# Find proportion of independent contractors with post-graduate degrees\n",
    "ind_post_grad = (ind_formal_education[\"Master's degree\"] + ind_formal_education[\"Doctoral degree\"])/len(df_ind)\n",
    "\n",
    "# Find proportion of full-time employees that never finished college\n",
    "ft_never_grad = (ft_formal_education [\"Some college/university study without earning a bachelor's degree\"] +\n",
    "                ft_formal_education[\"Secondary school\"] +\n",
    "                ft_formal_education[\"I never completed any formal education\"] +\n",
    "                ft_formal_education[\"Primary/elementary school\"]) / len(df_ft)\n",
    "\n",
    "# Find proportion of independent contractors that never finished college\n",
    "ind_never_grad = (ind_formal_education [\"Some college/university study without earning a bachelor's degree\"] +\n",
    "                ind_formal_education[\"Secondary school\"] +\n",
    "                ind_formal_education[\"I never completed any formal education\"] +\n",
    "                ind_formal_education[\"Primary/elementary school\"]) / len(df_ind)\n",
    "\n",
    "# Print the findings\n",
    "print(\"Proportion of full-time employees with postgraduate education: \", ft_post_grad)\n",
    "print(\"Proportion of independent contractors with postgraduate education: \", ind_post_grad)\n",
    "print(\"\")\n",
    "print(\"Proportion of full-time employees that never finished college: \", ft_never_grad)\n",
    "print(\"Proportion of independent contractors that never finished college: \", ind_never_grad)"
   ]
  },
  {
   "cell_type": "markdown",
   "metadata": {},
   "source": [
    "From the visual and numerical analyses, it is apparent that full-time employees tend to have slightly more postgraduate education, but are far more likely to have finished college.\n",
    "### Question 2: Difference in Career Satisfaction\n",
    "Are full-time employees more satisfied with their careers than independent contractors?  Once again, comparative plots and a numerical analysis will be completed to answer the question."
   ]
  },
  {
   "cell_type": "code",
   "execution_count": 120,
   "metadata": {},
   "outputs": [
    {
     "data": {
      "image/png": "[encoded data removed]",
      "text/plain": [
       "<Figure size 864x288 with 2 Axes>"
      ]
     },
     "metadata": {
      "needs_background": "light"
     },
     "output_type": "display_data"
    }
   ],
   "source": [
    "# Create list of labels for CareerSatisfaction bar chart x axis\n",
    "cs_labels = list(np.arange(11))\n",
    "\n",
    "# Create comparative bar charts for CareerSatisfaction column\n",
    "bar_chart_compare('CareerSatisfaction', 'Career Satisfaction', cs_labels)"
   ]
  },
  {
   "cell_type": "markdown",
   "metadata": {},
   "source": [
    "A straight evaluation of mean score is sufficient for the numerical analysis."
   ]
  },
  {
   "cell_type": "code",
   "execution_count": 121,
   "metadata": {},
   "outputs": [
    {
     "name": "stdout",
     "output_type": "stream",
     "text": [
      "The average career satisfaction score for full-time employees is  7.3545996642158284\n",
      "The average career satisfaction score for independent contractors is  7.453792794808682\n"
     ]
    }
   ],
   "source": [
    "# Find mean career satisfaction score for full-time employees\n",
    "ft_cs_mean = df_ft.CareerSatisfaction.mean()\n",
    "\n",
    "# Find mean career satisfaction score for independent contractors\n",
    "ind_cs_mean = df_ind.CareerSatisfaction.mean()\n",
    "\n",
    "# Print the findings\n",
    "print(\"The average career satisfaction score for full-time employees is \", ft_cs_mean)\n",
    "print(\"The average career satisfaction score for independent contractors is \", ind_cs_mean)"
   ]
  },
  {
   "cell_type": "markdown",
   "metadata": {},
   "source": [
    "The visual and numerical analyses indicate that full-time employees tend to have slightly lower career satisfaction when compared to independent contractors.  This was apparent in the plots, but the numerical analysis was required for confirmation.\n",
    "### Question 3\n",
    "Do full-time employees value job security more than independent contractors?  Another bar chart and basic numerical analysis will indicate the answer.  Since this question requests an ordinal response, the bar chart categories should be ordered consistently.  In answering this question, the \"No response\" entries created during the cleaning phase are not useful.  Therefore, each of the dataframes removes these entries so that the bar chart comparison function will not display them.  If needed, the dataframes can be restored using the copies created at the end of the data cleaning from the previous section."
   ]
  },
  {
   "cell_type": "code",
   "execution_count": 122,
   "metadata": {},
   "outputs": [
    {
     "data": {
      "image/png": "[encoded data removed]",
      "text/plain": [
       "<Figure size 864x288 with 2 Axes>"
      ]
     },
     "metadata": {
      "needs_background": "light"
     },
     "output_type": "display_data"
    }
   ],
   "source": [
    "# Subset the dataframes to not contain any entries of \"No response\" in the JobSecurity column\n",
    "df_ft = df_ft.query('JobSecurity != \"No response\"')\n",
    "df_ind = df_ind.query('JobSecurity != \"No response\"')\n",
    "\n",
    "# Create list of labels for JobSecurity bar chart x axis\n",
    "js_labels = ['Strongly agree', 'Agree', 'Somewhat agree', 'Disagree', 'Strongly disagree']\n",
    "\n",
    "# Create comparative bar charts for Job Security column\n",
    "bar_chart_compare('JobSecurity', 'Job Security is Important', js_labels)"
   ]
  },
  {
   "cell_type": "markdown",
   "metadata": {},
   "source": [
    "For the numerical analysis, the proportion of responses that agreed with the prompt \"Job security is important\" will be calculated for each subset of the data."
   ]
  },
  {
   "cell_type": "code",
   "execution_count": 125,
   "metadata": {},
   "outputs": [
    {
     "name": "stdout",
     "output_type": "stream",
     "text": [
      "The proportion of full-time employees that think job security is important is  0.9215298232695139\n",
      "The proportion of independent contractors that think job security is important is  0.752936988252047\n"
     ]
    }
   ],
   "source": [
    "# Create value count data for JobSecurity column from both dataframes\n",
    "ft_job_security = df_ft.JobSecurity.value_counts()\n",
    "ind_job_security = df_ind.JobSecurity.value_counts()\n",
    "\n",
    "# Make list of job security responses that can be characterized as agreeing with the prompt\n",
    "agreed = ['Strongly agree', 'Agree', 'Somewhat agree']\n",
    "\n",
    "# Find proportion of full-time employees that agree job security is important\n",
    "ft_js_agreed = 0\n",
    "ind_js_agreed = 0\n",
    "\n",
    "for item in agreed:\n",
    "    ft_js_agreed += ft_job_security[item]\n",
    "    ind_js_agreed += ind_job_security[item]\n",
    "\n",
    "ft_js_prop = ft_js_agreed / len(df_ft)\n",
    "ind_js_prop = ind_js_agreed / len(df_ind)\n",
    "\n",
    "# Print the findings\n",
    "print(\"The proportion of full-time employees that think job security is important is \", ft_js_prop)\n",
    "print(\"The proportion of independent contractors that think job security is important is \", ind_js_prop)"
   ]
  },
  {
   "cell_type": "markdown",
   "metadata": {},
   "source": [
    "And so, from both the plots and numerical analysis, it is very apparent that full-time employees value job security much more than independent contractors.\n",
    "## Evaluation\n",
    "The following conclusions were made from the analysis:\n",
    "<ul>\n",
    "    <li>Full-time employees tend to have slightly more postgraduate education than independent contractors</li>\n",
    "    <li>Full-time employees are much more likely to have finished college</li>\n",
    "    <li>Independent contractors have a slightly higher career satisfaction on average than full-time employees</li>\n",
    "    <li>Full-time employees value job security more than independent contractors</li>\n",
    "</ul>\n",
    "So, for a software developer earlier in their career who values stability (job security), it would make sense to finish college and pursue a conventional full-time career at a company.  On the other hand, if an aspiring software developer does not see the benefit in finishing college, they still have a shot at having a satisfying software development career working as an independent contractor."
   ]
  }
 ],
 "metadata": {
  "kernelspec": {
   "display_name": "Python 3",
   "language": "python",
   "name": "python3"
  },
  "language_info": {
   "codemirror_mode": {
    "name": "ipython",
    "version": 3
   },
   "file_extension": ".py",
   "mimetype": "text/x-python",
   "name": "python",
   "nbconvert_exporter": "python",
   "pygments_lexer": "ipython3",
   "version": "3.7.3"
  }
 },
 "nbformat": 4,
 "nbformat_minor": 2
}
