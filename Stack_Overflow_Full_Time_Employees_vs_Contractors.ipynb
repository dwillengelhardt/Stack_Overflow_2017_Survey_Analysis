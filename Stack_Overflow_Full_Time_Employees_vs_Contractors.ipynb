{
 "cells": [
  {
   "cell_type": "markdown",
   "metadata": {},
   "source": [
    "# Differences Between Full-Time Employees and Independent Contractors\n",
    "This notebook uses Stack Overflow's 2017 Survey data to investigate if certain results are different if the respondent is a full-time employee at a company versus an independent contractor.  The main areas of interest are:\n",
    "<ul>\n",
    "    <li>Highest level of formal education</li>\n",
    "    <li>Career satisfaction score</li>\n",
    "    <li>Job security importance</li>\n",
    "</ul>"
   ]
  },
  {
   "cell_type": "markdown",
   "metadata": {},
   "source": [
    "## Gathering the Data"
   ]
  },
  {
   "cell_type": "code",
   "execution_count": 1,
   "metadata": {
    "scrolled": true
   },
   "outputs": [],
   "source": [
    "# Load modules\n",
    "import pandas as pd\n",
    "import numpy as np\n",
    "import matplotlib.pyplot as plt\n",
    "\n",
    "%matplotlib inline"
   ]
  },
  {
   "cell_type": "code",
   "execution_count": 2,
   "metadata": {},
   "outputs": [],
   "source": [
    "# Read in the data set\n",
    "df_raw = pd.read_csv('survey-results-public.csv')\n",
    "\n",
    "# Remove columns that are not of interest\n",
    "df_raw = df_raw[['Professional', 'EmploymentStatus', 'FormalEducation', 'CareerSatisfaction', 'JobSecurity']]"
   ]
  },
  {
   "cell_type": "markdown",
   "metadata": {},
   "source": [
    "## Assessing the Data"
   ]
  },
  {
   "cell_type": "code",
   "execution_count": 3,
   "metadata": {},
   "outputs": [
    {
     "name": "stdout",
     "output_type": "stream",
     "text": [
      "<class 'pandas.core.frame.DataFrame'>\n",
      "RangeIndex: 51392 entries, 0 to 51391\n",
      "Data columns (total 5 columns):\n",
      "Professional          51392 non-null object\n",
      "EmploymentStatus      51392 non-null object\n",
      "FormalEducation       51392 non-null object\n",
      "CareerSatisfaction    42695 non-null float64\n",
      "JobSecurity           31240 non-null object\n",
      "dtypes: float64(1), object(4)\n",
      "memory usage: 2.0+ MB\n"
     ]
    }
   ],
   "source": [
    "# Print dataframe info\n",
    "df_raw.info()"
   ]
  },
  {
   "cell_type": "code",
   "execution_count": 4,
   "metadata": {
    "scrolled": true
   },
   "outputs": [
    {
     "name": "stdout",
     "output_type": "stream",
     "text": [
      "Student\n",
      "Professional developer\n",
      "Professional non-developer who sometimes writes code\n",
      "Used to be a professional developer\n",
      "None of these\n"
     ]
    }
   ],
   "source": [
    "# Print unique values in Professional column\n",
    "[print(item) for item in df_raw.Professional.unique()];"
   ]
  },
  {
   "cell_type": "code",
   "execution_count": 5,
   "metadata": {},
   "outputs": [
    {
     "name": "stdout",
     "output_type": "stream",
     "text": [
      "Not employed, and not looking for work\n",
      "Employed part-time\n",
      "Employed full-time\n",
      "Independent contractor, freelancer, or self-employed\n",
      "Not employed, but looking for work\n",
      "I prefer not to say\n",
      "Retired\n"
     ]
    }
   ],
   "source": [
    "# Print unique values in EmploymentStatus column\n",
    "[print(item) for item in df_raw.EmploymentStatus.unique()];"
   ]
  },
  {
   "cell_type": "code",
   "execution_count": 6,
   "metadata": {},
   "outputs": [
    {
     "name": "stdout",
     "output_type": "stream",
     "text": [
      "Strongly agree\n",
      "nan\n",
      "Agree\n",
      "Somewhat agree\n",
      "Strongly disagree\n",
      "Disagree\n"
     ]
    }
   ],
   "source": [
    "# Print unique values in JobSecurity column\n",
    "[print(item) for item in df_raw.JobSecurity.unique()];"
   ]
  },
  {
   "cell_type": "markdown",
   "metadata": {},
   "source": [
    "The cleaning will aim to accomplish the following tasks:\n",
    "<ul>\n",
    "    <li>Remove entries of \"Student\" and \"None of these\" from the <i>Professional</i> column - these respondents probably don't have a qualified opinion for the investigation</li>\n",
    "    <li>Remove all entries except \"Employed part-time\" and \"Independent contractor, freelancer, or self-employed\" from the <i>EmploymentStatus</i> column - the other statuses are not of interest</li>\n",
    "    <li>Remove entries with null values</li>\n",
    "</ul>"
   ]
  },
  {
   "cell_type": "markdown",
   "metadata": {},
   "source": [
    "## Cleaning the Data"
   ]
  },
  {
   "cell_type": "code",
   "execution_count": 7,
   "metadata": {},
   "outputs": [],
   "source": [
    "# Create a copy of the data\n",
    "df_cleaning = df_raw.copy()"
   ]
  },
  {
   "cell_type": "markdown",
   "metadata": {},
   "source": [
    "### Cleaning Task 1"
   ]
  },
  {
   "cell_type": "code",
   "execution_count": 8,
   "metadata": {},
   "outputs": [
    {
     "name": "stdout",
     "output_type": "stream",
     "text": [
      "Professional developer\n",
      "Professional non-developer who sometimes writes code\n",
      "Used to be a professional developer\n",
      "None of these\n"
     ]
    }
   ],
   "source": [
    "# Remove entries where the responder is a student\n",
    "df_cleaning = df_cleaning.query('Professional != \"Student\"')\n",
    "\n",
    "# Confirm cleaning task was completed successfully\n",
    "[print(item) for item in df_cleaning.Professional.unique()];"
   ]
  },
  {
   "cell_type": "markdown",
   "metadata": {},
   "source": [
    "### Cleaning Task 2"
   ]
  },
  {
   "cell_type": "code",
   "execution_count": 9,
   "metadata": {
    "scrolled": true
   },
   "outputs": [
    {
     "name": "stdout",
     "output_type": "stream",
     "text": [
      "Employed full-time\n",
      "Independent contractor, freelancer, or self-employed\n"
     ]
    }
   ],
   "source": [
    "# Remove entries where the employment status is not Full-Time or Independent\n",
    "df_cleaning = df_cleaning.query('EmploymentStatus == \"Employed full-time\" or EmploymentStatus == \"Independent contractor, freelancer, or self-employed\"')\n",
    "\n",
    "# Confirm cleaning task was completed successfully\n",
    "[print(item) for item in df_cleaning.EmploymentStatus.unique()];"
   ]
  },
  {
   "cell_type": "markdown",
   "metadata": {},
   "source": [
    "### Cleaning Task 3"
   ]
  },
  {
   "cell_type": "code",
   "execution_count": 10,
   "metadata": {},
   "outputs": [
    {
     "name": "stdout",
     "output_type": "stream",
     "text": [
      "<class 'pandas.core.frame.DataFrame'>\n",
      "Int64Index: 39370 entries, 2 to 51391\n",
      "Data columns (total 5 columns):\n",
      "Professional          39370 non-null object\n",
      "EmploymentStatus      39370 non-null object\n",
      "FormalEducation       39370 non-null object\n",
      "CareerSatisfaction    39015 non-null float64\n",
      "JobSecurity           24649 non-null object\n",
      "dtypes: float64(1), object(4)\n",
      "memory usage: 1.8+ MB\n"
     ]
    }
   ],
   "source": [
    "# Display dataframe info\n",
    "df_cleaning.info()"
   ]
  },
  {
   "cell_type": "markdown",
   "metadata": {},
   "source": [
    "After cleaning from the other two steps was completed, there are slightly over 39,000 entries remaining.  The <i>CareerSatisfaction</i> column has a small number of null entries.  Those can be removed without further investigation, as the loss of data will be negligible.  Rather than removing the entries where the <i>JobSecurity</i> column is null, these null entries will be filled with a value of \"No response\"."
   ]
  },
  {
   "cell_type": "code",
   "execution_count": 11,
   "metadata": {},
   "outputs": [
    {
     "name": "stdout",
     "output_type": "stream",
     "text": [
      "<class 'pandas.core.frame.DataFrame'>\n",
      "Int64Index: 39015 entries, 2 to 51391\n",
      "Data columns (total 5 columns):\n",
      "Professional          39015 non-null object\n",
      "EmploymentStatus      39015 non-null object\n",
      "FormalEducation       39015 non-null object\n",
      "CareerSatisfaction    39015 non-null float64\n",
      "JobSecurity           24537 non-null object\n",
      "dtypes: float64(1), object(4)\n",
      "memory usage: 1.8+ MB\n"
     ]
    }
   ],
   "source": [
    "# Remove null entries from CareerSatisfaction column\n",
    "df_cleaning.dropna(subset = ['CareerSatisfaction'], inplace = True)\n",
    "\n",
    "# Confirm cleaning task was completed successfully\n",
    "df_cleaning.info()"
   ]
  },
  {
   "cell_type": "code",
   "execution_count": 12,
   "metadata": {},
   "outputs": [
    {
     "name": "stdout",
     "output_type": "stream",
     "text": [
      "Agree\n",
      "Somewhat agree\n",
      "No response\n",
      "Strongly agree\n",
      "Strongly disagree\n",
      "Disagree\n"
     ]
    }
   ],
   "source": [
    "# Fill null entries from JobSecurity column with value of \"No response\"\n",
    "df_cleaning.JobSecurity.fillna(\"No response\", inplace = True)\n",
    "\n",
    "# Confirm cleaning task was completed successfully\n",
    "[print(item) for item in df_cleaning.JobSecurity.unique()];"
   ]
  },
  {
   "cell_type": "markdown",
   "metadata": {},
   "source": [
    "### Finishing touches"
   ]
  },
  {
   "cell_type": "code",
   "execution_count": 13,
   "metadata": {},
   "outputs": [
    {
     "name": "stderr",
     "output_type": "stream",
     "text": [
      "C:\\Users\\davee\\Anaconda3\\lib\\site-packages\\pandas\\core\\frame.py:3697: SettingWithCopyWarning: \n",
      "A value is trying to be set on a copy of a slice from a DataFrame\n",
      "\n",
      "See the caveats in the documentation: http://pandas.pydata.org/pandas-docs/stable/indexing.html#indexing-view-versus-copy\n",
      "  errors=errors)\n"
     ]
    }
   ],
   "source": [
    "# Create dataframe for entries of full-time employees\n",
    "df_ft = df_cleaning.query('EmploymentStatus == \"Employed full-time\"')\n",
    "\n",
    "# Create dataframe for entries of independent contractors\n",
    "df_ind = df_cleaning.query('EmploymentStatus == \"Independent contractor, freelancer, or self-employed\"')\n",
    "\n",
    "# Drop Professional and EmploymentStatus columns from new dataframes\n",
    "df_ft.drop(columns = ['Professional', 'EmploymentStatus'], inplace = True)\n",
    "df_ind.drop(columns = ['Professional', 'EmploymentStatus'], inplace = True)"
   ]
  },
  {
   "cell_type": "markdown",
   "metadata": {},
   "source": [
    "## Analysis"
   ]
  },
  {
   "cell_type": "markdown",
   "metadata": {},
   "source": [
    "### Question 1: Differences in Formal Education\n",
    "Are full-time employees more highly educated than independent contractors?"
   ]
  },
  {
   "cell_type": "code",
   "execution_count": 14,
   "metadata": {
    "scrolled": false
   },
   "outputs": [
    {
     "data": {
      "image/png": "[encoded data removed]",
      "text/plain": [
       "<Figure size 864x288 with 2 Axes>"
      ]
     },
     "metadata": {
      "needs_background": "light"
     },
     "output_type": "display_data"
    }
   ],
   "source": [
    "# Get value counts for each answer in formal education for full-time employees\n",
    "ft_formal_education = df_ft.FormalEducation.value_counts()\n",
    "\n",
    "# Get value counts for each answer in formal education for independent contractors\n",
    "ind_formal_education = df_ind.FormalEducation.value_counts()\n",
    "\n",
    "# Convert value count numpy series results into lists for use in a bar chart\n",
    "ft_fe_labels = list(ft_formal_education.index)\n",
    "ft_fe_values = list(ft_formal_education)\n",
    "ind_fe_labels = list(ind_formal_education.index)\n",
    "ind_fe_values = list(ind_formal_education)\n",
    "\n",
    "# Abbreviate the labels to produce cleaner plots\n",
    "for item in range(len(ft_fe_labels)):\n",
    "    ft_fe_labels[item] = ft_fe_labels[item][0:10] + '...'\n",
    "\n",
    "for item in range(len(ind_fe_labels)):\n",
    "    ind_fe_labels[item] = ind_fe_labels[item][0:10] + '...'\n",
    "\n",
    "# Set figure size\n",
    "plt.figure(figsize = [12, 4])\n",
    "\n",
    "# Create bar plot for full-time employee formal education\n",
    "plt.subplot(1,2,1)\n",
    "ft_fe_x_ticks = np.arange(len(ft_fe_labels))\n",
    "plt.bar(ft_fe_x_ticks, ft_fe_values);\n",
    "plt.xticks(ft_fe_x_ticks, ft_fe_labels, rotation = 'vertical')\n",
    "plt.ylabel('Counts')\n",
    "plt.title('Formal Education - Full-Time Employees');\n",
    "\n",
    "\n",
    "# Create bar plot for independent contractor formal education\n",
    "plt.subplot(1,2,2)\n",
    "ind_fe_x_ticks = np.arange(len(ind_fe_labels))\n",
    "plt.bar(ind_fe_x_ticks, ind_fe_values);\n",
    "plt.xticks(ind_fe_x_ticks, ind_fe_labels, rotation = 'vertical')\n",
    "plt.ylabel('Counts')\n",
    "plt.title('Formal Education - Independent Contractors');"
   ]
  },
  {
   "cell_type": "code",
   "execution_count": 15,
   "metadata": {
    "scrolled": true
   },
   "outputs": [
    {
     "name": "stdout",
     "output_type": "stream",
     "text": [
      "Proportion of full-time employees with postgraduate education:  0.2910322468592601\n",
      "Proportion of independent contractors with postgraduate education:  0.26023718952785857\n",
      "\n",
      "Proportion of full-time employees that never finished college:  0.2027731141087246\n",
      "Proportion of independent contractors that never finished college:  0.3369881405236071\n"
     ]
    }
   ],
   "source": [
    "# Find proportion of full-time employees with post-graduate degrees\n",
    "ft_post_grad = (ft_formal_education[\"Master's degree\"] + ft_formal_education[\"Doctoral degree\"])/len(df_ft)\n",
    "\n",
    "# Find proportion of independent contractors with post-graduate degrees\n",
    "ind_post_grad = (ind_formal_education[\"Master's degree\"] + ind_formal_education[\"Doctoral degree\"])/len(df_ind)\n",
    "\n",
    "# Find proportion of full-time employees that never finished college\n",
    "ft_never_grad = (ft_formal_education [\"Some college/university study without earning a bachelor's degree\"] +\n",
    "                ft_formal_education[\"Secondary school\"] +\n",
    "                ft_formal_education[\"I never completed any formal education\"] +\n",
    "                ft_formal_education[\"Primary/elementary school\"]) / len(df_ft)\n",
    "\n",
    "# Find proportion of independent contractors that never finished college\n",
    "ind_never_grad = (ind_formal_education [\"Some college/university study without earning a bachelor's degree\"] +\n",
    "                ind_formal_education[\"Secondary school\"] +\n",
    "                ind_formal_education[\"I never completed any formal education\"] +\n",
    "                ind_formal_education[\"Primary/elementary school\"]) / len(df_ind)\n",
    "\n",
    "# Print the findings\n",
    "print(\"Proportion of full-time employees with postgraduate education: \", ft_post_grad)\n",
    "print(\"Proportion of independent contractors with postgraduate education: \", ind_post_grad)\n",
    "print(\"\")\n",
    "print(\"Proportion of full-time employees that never finished college: \", ft_never_grad)\n",
    "print(\"Proportion of independent contractors that never finished college: \", ind_never_grad)"
   ]
  },
  {
   "cell_type": "markdown",
   "metadata": {},
   "source": [
    "Full-time employees tend to have slightly more postgraduate education, but are far more likely to have finished college."
   ]
  },
  {
   "cell_type": "markdown",
   "metadata": {},
   "source": [
    "### Question 2: Difference in Career Satisfaction\n",
    "Are full-time employees more satisfied with their careers than independent contractors?"
   ]
  },
  {
   "cell_type": "code",
   "execution_count": 16,
   "metadata": {},
   "outputs": [
    {
     "data": {
      "image/png": "[encoded data removed]",
      "text/plain": [
       "<Figure size 864x360 with 2 Axes>"
      ]
     },
     "metadata": {
      "needs_background": "light"
     },
     "output_type": "display_data"
    }
   ],
   "source": [
    "# Set figure size\n",
    "plt.figure(figsize = [12, 5])\n",
    "\n",
    "# Create histogram for career satisfaction of full-time employees\n",
    "plt.subplot(1,2,1)\n",
    "plt.title('Career Satisfaction - Full-Time Employees')\n",
    "plt.xlabel('Score')\n",
    "plt.ylabel('Count')\n",
    "plt.hist(data = df_ft, x = 'CareerSatisfaction', bins = 11);\n",
    "\n",
    "# Create histogram for career satisfaction of independent contractors\n",
    "plt.subplot(1,2,2)\n",
    "plt.title('Career Satisfaction - Independent Contractors')\n",
    "plt.xlabel('Score')\n",
    "plt.ylabel('Count')\n",
    "plt.hist(data = df_ind, x = 'CareerSatisfaction', bins = 11);"
   ]
  },
  {
   "cell_type": "code",
   "execution_count": 17,
   "metadata": {},
   "outputs": [
    {
     "name": "stdout",
     "output_type": "stream",
     "text": [
      "The average career satisfaction score for full-time employees is  7.3545996642158284\n",
      "The average career satisfaction score for independent contractors is  7.453792794808682\n"
     ]
    }
   ],
   "source": [
    "# Find mean career satisfaction score for full-time employees\n",
    "ft_cs_mean = df_ft.CareerSatisfaction.mean()\n",
    "\n",
    "# Find mean career satisfaction score for independent contractors\n",
    "ind_cs_mean = df_ind.CareerSatisfaction.mean()\n",
    "\n",
    "# Print the findings\n",
    "print(\"The average career satisfaction score for full-time employees is \", ft_cs_mean)\n",
    "print(\"The average career satisfaction score for independent contractors is \", ind_cs_mean)"
   ]
  },
  {
   "cell_type": "markdown",
   "metadata": {},
   "source": [
    "Independent contractors have a slightly higher mean career satisfaction."
   ]
  },
  {
   "cell_type": "markdown",
   "metadata": {},
   "source": [
    "### Question 3\n",
    "Do full-time employees value job security more than independent contractors?"
   ]
  },
  {
   "cell_type": "code",
   "execution_count": 18,
   "metadata": {},
   "outputs": [
    {
     "data": {
      "image/png": "[encoded data removed]",
      "text/plain": [
       "<Figure size 864x288 with 2 Axes>"
      ]
     },
     "metadata": {
      "needs_background": "light"
     },
     "output_type": "display_data"
    }
   ],
   "source": [
    "# Get value counts for each answer in job security for full-time employees, omitting no response values\n",
    "ft_job_security = df_ft.query('JobSecurity != \"No response\"').JobSecurity.value_counts()\n",
    "\n",
    "# Get value counts for each answer in job security for independent contractors\n",
    "ind_job_security = df_ind.query('JobSecurity != \"No response\"').JobSecurity.value_counts()\n",
    "\n",
    "# Convert value count numpy series results into ordered lists for use in a bar chart\n",
    "js_labels = ['Strongly agree', 'Agree', 'Somewhat agree', 'Disagree', 'Strongly disagree']\n",
    "\n",
    "ft_js_values = []\n",
    "ind_js_values = []\n",
    "\n",
    "for item in range(len(js_labels)):\n",
    "    ft_js_values.append(ft_job_security[js_labels[item]])\n",
    "    ind_js_values.append(ind_job_security[js_labels[item]])\n",
    "\n",
    "# Set figure size\n",
    "plt.figure(figsize = [12, 4])\n",
    "\n",
    "# Create bar plot for full-time employee job security\n",
    "plt.subplot(1,2,1)\n",
    "ft_js_x_ticks = np.arange(len(js_labels))\n",
    "plt.bar(ft_js_x_ticks, ft_js_values);\n",
    "plt.xticks(ft_js_x_ticks, js_labels, rotation = 'vertical')\n",
    "plt.ylabel('Counts')\n",
    "plt.title('Job Security Is Important - Full-Time Employees');\n",
    "\n",
    "\n",
    "# Create bar plot for independent contractor job security\n",
    "plt.subplot(1,2,2)\n",
    "ind_js_x_ticks = np.arange(len(js_labels))\n",
    "plt.bar(ind_js_x_ticks, ind_js_values);\n",
    "plt.xticks(ind_js_x_ticks, js_labels, rotation = 'vertical')\n",
    "plt.ylabel('Counts')\n",
    "plt.title('Job Security Is Important - Independent Contractors');"
   ]
  },
  {
   "cell_type": "code",
   "execution_count": 19,
   "metadata": {},
   "outputs": [
    {
     "name": "stdout",
     "output_type": "stream",
     "text": [
      "The proportion of full-time employees that think job security is important is  0.9215298232695139\n",
      "The proportion of independent contractors that think job security is important is  0.752936988252047\n"
     ]
    }
   ],
   "source": [
    "# Make list of job security responses that can be characterized as agreeing with the prompt\n",
    "agreed = ['Strongly agree', 'Agree', 'Somewhat agree']\n",
    "\n",
    "# Find proportion of full-time employees that agree job security is important\n",
    "ft_js_agreed = 0\n",
    "ind_js_agreed = 0\n",
    "\n",
    "for item in agreed:\n",
    "    ft_js_agreed += ft_job_security[item]\n",
    "    ind_js_agreed += ind_job_security[item]\n",
    "\n",
    "ft_js_prop = ft_js_agreed / len(df_ft.query('JobSecurity != \"No response\"'))\n",
    "ind_js_prop = ind_js_agreed / len(df_ind.query('JobSecurity != \"No response\"'))\n",
    "\n",
    "# Print the findings\n",
    "print(\"The proportion of full-time employees that think job security is important is \", ft_js_prop)\n",
    "print(\"The proportion of independent contractors that think job security is important is \", ind_js_prop)"
   ]
  },
  {
   "cell_type": "markdown",
   "metadata": {},
   "source": [
    "Full-time employees value job security more than independent contractors."
   ]
  }
 ],
 "metadata": {
  "kernelspec": {
   "display_name": "Python 3",
   "language": "python",
   "name": "python3"
  },
  "language_info": {
   "codemirror_mode": {
    "name": "ipython",
    "version": 3
   },
   "file_extension": ".py",
   "mimetype": "text/x-python",
   "name": "python",
   "nbconvert_exporter": "python",
   "pygments_lexer": "ipython3",
   "version": "3.7.3"
  }
 },
 "nbformat": 4,
 "nbformat_minor": 2
}
